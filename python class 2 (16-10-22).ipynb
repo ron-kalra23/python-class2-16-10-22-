{
 "cells": [
  {
   "cell_type": "markdown",
   "id": "514d04f6",
   "metadata": {},
   "source": [
    "# python class2(16-10-22)"
   ]
  },
  {
   "cell_type": "raw",
   "id": "26a3a19f",
   "metadata": {},
   "source": [
    "imp tips :\n",
    "# practice is the key\n",
    "# find solution for yourself\n",
    "#learn deeply\n",
    "# don't run too fast\n"
   ]
  },
  {
   "cell_type": "code",
   "execution_count": 1,
   "id": "32f57c55",
   "metadata": {},
   "outputs": [],
   "source": [
    "employee = []"
   ]
  },
  {
   "cell_type": "code",
   "execution_count": 2,
   "id": "38baaf60",
   "metadata": {},
   "outputs": [],
   "source": [
    "#how to add employee in list \n",
    "employee.append('radha')"
   ]
  },
  {
   "cell_type": "code",
   "execution_count": 3,
   "id": "466d918d",
   "metadata": {},
   "outputs": [
    {
     "data": {
      "text/plain": [
       "['radha']"
      ]
     },
     "execution_count": 3,
     "metadata": {},
     "output_type": "execute_result"
    }
   ],
   "source": [
    "employee"
   ]
  },
  {
   "cell_type": "code",
   "execution_count": 4,
   "id": "203ba8b9",
   "metadata": {},
   "outputs": [],
   "source": [
    "employee.append('shankar')\n",
    "employee.append('krishna')"
   ]
  },
  {
   "cell_type": "code",
   "execution_count": 5,
   "id": "bc947d93",
   "metadata": {},
   "outputs": [
    {
     "data": {
      "text/plain": [
       "['radha', 'shankar', 'krishna']"
      ]
     },
     "execution_count": 5,
     "metadata": {},
     "output_type": "execute_result"
    }
   ],
   "source": [
    "employee"
   ]
  },
  {
   "cell_type": "markdown",
   "id": "b1e91947",
   "metadata": {},
   "source": [
    "# index or insert :\n",
    "employee =       ['radha','suresh','chaman','shyam', 'yusuf']\n",
    "index =          [ 0      , 1      ,  2     ,   3   ,   4   ]\n",
    "index reverse=   [ -5         -4         -3     -2    -1    ]"
   ]
  },
  {
   "cell_type": "code",
   "execution_count": 11,
   "id": "5e33cf33",
   "metadata": {},
   "outputs": [],
   "source": [
    "#to add any employee on index\n",
    "employee[1] = 'swati'\n",
    "#in this way person will replace with another person"
   ]
  },
  {
   "cell_type": "code",
   "execution_count": 12,
   "id": "843735a2",
   "metadata": {},
   "outputs": [
    {
     "data": {
      "text/plain": [
       "['radha', 'swati', 'sushma', 'krishna']"
      ]
     },
     "execution_count": 12,
     "metadata": {},
     "output_type": "execute_result"
    }
   ],
   "source": [
    "employee"
   ]
  },
  {
   "cell_type": "code",
   "execution_count": 13,
   "id": "549db588",
   "metadata": {},
   "outputs": [],
   "source": [
    "#another wway of inserting an employee in list\n",
    "employee.insert(2,'sushma')\n",
    "#in this way list will move forward"
   ]
  },
  {
   "cell_type": "code",
   "execution_count": 10,
   "id": "c1281772",
   "metadata": {},
   "outputs": [
    {
     "data": {
      "text/plain": [
       "['radha', 'swati', 'sushma', 'krishna']"
      ]
     },
     "execution_count": 10,
     "metadata": {},
     "output_type": "execute_result"
    }
   ],
   "source": [
    "employee"
   ]
  },
  {
   "cell_type": "code",
   "execution_count": 14,
   "id": "4f306d9b",
   "metadata": {},
   "outputs": [],
   "source": [
    "emp_salary = [12000,13000,14000,15000,16000]"
   ]
  },
  {
   "cell_type": "code",
   "execution_count": 15,
   "id": "b8e119fc",
   "metadata": {},
   "outputs": [],
   "source": [
    "emp_salary.insert(0,55000)"
   ]
  },
  {
   "cell_type": "code",
   "execution_count": 16,
   "id": "7599b05d",
   "metadata": {},
   "outputs": [
    {
     "data": {
      "text/plain": [
       "[55000, 12000, 13000, 14000, 15000, 16000]"
      ]
     },
     "execution_count": 16,
     "metadata": {},
     "output_type": "execute_result"
    }
   ],
   "source": [
    "emp_salary"
   ]
  },
  {
   "cell_type": "code",
   "execution_count": 19,
   "id": "9452db8a",
   "metadata": {},
   "outputs": [
    {
     "ename": "SyntaxError",
     "evalue": "cannot assign to function call (3500507281.py, line 1)",
     "output_type": "error",
     "traceback": [
      "\u001b[1;36m  File \u001b[1;32m\"C:\\Users\\Asus\\AppData\\Local\\Temp\\ipykernel_12772\\3500507281.py\"\u001b[1;36m, line \u001b[1;32m1\u001b[0m\n\u001b[1;33m    emp_salary(0) = 45000\u001b[0m\n\u001b[1;37m    ^\u001b[0m\n\u001b[1;31mSyntaxError\u001b[0m\u001b[1;31m:\u001b[0m cannot assign to function call\n"
     ]
    }
   ],
   "source": [
    "emp_salary(0) = 45000"
   ]
  },
  {
   "cell_type": "markdown",
   "id": "6853195a",
   "metadata": {},
   "source": [
    "# attribute = all method , or the method we can use for change in any list ,tuple or any data structure is known as attribute.\n"
   ]
  },
  {
   "cell_type": "code",
   "execution_count": 21,
   "id": "0052a7e3",
   "metadata": {},
   "outputs": [],
   "source": [
    "# we can call all method or attribute by simply click after tab writing list_name\n",
    "#employee.tab"
   ]
  },
  {
   "cell_type": "code",
   "execution_count": 22,
   "id": "a795a7fe",
   "metadata": {},
   "outputs": [
    {
     "data": {
      "text/plain": [
       "'swati'"
      ]
     },
     "execution_count": 22,
     "metadata": {},
     "output_type": "execute_result"
    }
   ],
   "source": [
    "#to get information on any list\n",
    "employee[1]"
   ]
  },
  {
   "cell_type": "code",
   "execution_count": 23,
   "id": "2fe27a0e",
   "metadata": {},
   "outputs": [
    {
     "data": {
      "text/plain": [
       "'radha'"
      ]
     },
     "execution_count": 23,
     "metadata": {},
     "output_type": "execute_result"
    }
   ],
   "source": [
    "employee[0]"
   ]
  },
  {
   "cell_type": "code",
   "execution_count": 24,
   "id": "f1064262",
   "metadata": {},
   "outputs": [
    {
     "data": {
      "text/plain": [
       "['radha', 'swati', 'sushma', 'sushma', 'krishna']"
      ]
     },
     "execution_count": 24,
     "metadata": {},
     "output_type": "execute_result"
    }
   ],
   "source": [
    "employee"
   ]
  },
  {
   "cell_type": "code",
   "execution_count": 26,
   "id": "ff83c6cc",
   "metadata": {},
   "outputs": [
    {
     "data": {
      "text/plain": [
       "5"
      ]
     },
     "execution_count": 26,
     "metadata": {},
     "output_type": "execute_result"
    }
   ],
   "source": [
    "#to know the length of any list\n",
    "len(employee)     #len stand for length"
   ]
  },
  {
   "cell_type": "code",
   "execution_count": 28,
   "id": "37dc00eb",
   "metadata": {},
   "outputs": [],
   "source": [
    "#update anything on list\n",
    "employee[1]= 'rajesh'"
   ]
  },
  {
   "cell_type": "code",
   "execution_count": 29,
   "id": "010c79cb",
   "metadata": {},
   "outputs": [
    {
     "data": {
      "text/plain": [
       "['radha', 'rajesh', 'sushma', 'sushma', 'krishna']"
      ]
     },
     "execution_count": 29,
     "metadata": {},
     "output_type": "execute_result"
    }
   ],
   "source": [
    "employee #swati got replaced with rajesh"
   ]
  },
  {
   "cell_type": "code",
   "execution_count": 30,
   "id": "364c88f0",
   "metadata": {},
   "outputs": [
    {
     "data": {
      "text/plain": [
       "[55000, 12000, 13000, 14000, 15000, 16000]"
      ]
     },
     "execution_count": 30,
     "metadata": {},
     "output_type": "execute_result"
    }
   ],
   "source": [
    "#grabbing data for list"
   ]
  },
  {
   "cell_type": "code",
   "execution_count": 31,
   "id": "e52189fd",
   "metadata": {},
   "outputs": [
    {
     "data": {
      "text/plain": [
       "[55000, 12000, 13000, 14000, 15000, 16000]"
      ]
     },
     "execution_count": 31,
     "metadata": {},
     "output_type": "execute_result"
    }
   ],
   "source": [
    "emp_salary[0:]      #it will provide us data of o index to the last index in our list"
   ]
  },
  {
   "cell_type": "code",
   "execution_count": 32,
   "id": "4315745a",
   "metadata": {},
   "outputs": [
    {
     "data": {
      "text/plain": [
       "[12000, 13000, 14000]"
      ]
     },
     "execution_count": 32,
     "metadata": {},
     "output_type": "execute_result"
    }
   ],
   "source": [
    "emp_salary[1:4]   #it will provide us data of 1st index but in the end it will not give us data of 4th index rather it will give data of 3rd index"
   ]
  },
  {
   "cell_type": "code",
   "execution_count": 33,
   "id": "e07113df",
   "metadata": {},
   "outputs": [
    {
     "data": {
      "text/plain": [
       "[55000, 12000, 13000, 14000]"
      ]
     },
     "execution_count": 33,
     "metadata": {},
     "output_type": "execute_result"
    }
   ],
   "source": [
    "emp_salary[:4]     #starting from 0 index\n",
    "                   #ending on 3rd index"
   ]
  },
  {
   "cell_type": "code",
   "execution_count": 36,
   "id": "8896c6e4",
   "metadata": {},
   "outputs": [
    {
     "data": {
      "text/plain": [
       "[55000, 12000, 13000, 14000, 15000, 16000, 25000]"
      ]
     },
     "execution_count": 36,
     "metadata": {},
     "output_type": "execute_result"
    }
   ],
   "source": [
    "emp_salary +[25000 ]     #this will not change the actual list\n",
    "                         #it brings out a temporary change"
   ]
  },
  {
   "cell_type": "code",
   "execution_count": 37,
   "id": "f23a986e",
   "metadata": {},
   "outputs": [],
   "source": [
    "emp_salary = emp_salary + [25000]     #it will change permanent and add 25000 in the end of list"
   ]
  },
  {
   "cell_type": "code",
   "execution_count": 38,
   "id": "d0be3b4b",
   "metadata": {},
   "outputs": [
    {
     "data": {
      "text/plain": [
       "[55000, 12000, 13000, 14000, 15000, 16000, 25000]"
      ]
     },
     "execution_count": 38,
     "metadata": {},
     "output_type": "execute_result"
    }
   ],
   "source": [
    "emp_salary"
   ]
  },
  {
   "cell_type": "code",
   "execution_count": 39,
   "id": "bff9f740",
   "metadata": {},
   "outputs": [
    {
     "data": {
      "text/plain": [
       "[55000,\n",
       " 12000,\n",
       " 13000,\n",
       " 14000,\n",
       " 15000,\n",
       " 16000,\n",
       " 25000,\n",
       " 55000,\n",
       " 12000,\n",
       " 13000,\n",
       " 14000,\n",
       " 15000,\n",
       " 16000,\n",
       " 25000]"
      ]
     },
     "execution_count": 39,
     "metadata": {},
     "output_type": "execute_result"
    }
   ],
   "source": [
    "#to make the list double \n",
    "emp_salary * 2"
   ]
  },
  {
   "cell_type": "code",
   "execution_count": 40,
   "id": "12b603ca",
   "metadata": {},
   "outputs": [
    {
     "data": {
      "text/plain": [
       "[55000, 12000, 13000, 14000, 15000, 16000, 25000]"
      ]
     },
     "execution_count": 40,
     "metadata": {},
     "output_type": "execute_result"
    }
   ],
   "source": [
    "emp_salary    #that too bring a temp. change"
   ]
  },
  {
   "cell_type": "code",
   "execution_count": 41,
   "id": "3800e0bc",
   "metadata": {},
   "outputs": [],
   "source": [
    "emp_salary = emp_salary * 2     #for permanent change"
   ]
  },
  {
   "cell_type": "code",
   "execution_count": 42,
   "id": "825a97d6",
   "metadata": {},
   "outputs": [
    {
     "data": {
      "text/plain": [
       "[55000,\n",
       " 12000,\n",
       " 13000,\n",
       " 14000,\n",
       " 15000,\n",
       " 16000,\n",
       " 25000,\n",
       " 55000,\n",
       " 12000,\n",
       " 13000,\n",
       " 14000,\n",
       " 15000,\n",
       " 16000,\n",
       " 25000]"
      ]
     },
     "execution_count": 42,
     "metadata": {},
     "output_type": "execute_result"
    }
   ],
   "source": [
    "emp_salary"
   ]
  },
  {
   "cell_type": "code",
   "execution_count": 43,
   "id": "37e7dc39",
   "metadata": {},
   "outputs": [],
   "source": [
    " marks = [11,34,34,55,66,77,100,43,34,56,66,100,65,33,77]"
   ]
  },
  {
   "cell_type": "code",
   "execution_count": 44,
   "id": "656982c9",
   "metadata": {},
   "outputs": [
    {
     "data": {
      "text/plain": [
       "2"
      ]
     },
     "execution_count": 44,
     "metadata": {},
     "output_type": "execute_result"
    }
   ],
   "source": [
    "#how to check occurance of any particular data \n",
    "#listname.count(100)\n",
    "marks.count(100)"
   ]
  },
  {
   "cell_type": "code",
   "execution_count": 45,
   "id": "bd36b595",
   "metadata": {},
   "outputs": [
    {
     "data": {
      "text/plain": [
       "3"
      ]
     },
     "execution_count": 45,
     "metadata": {},
     "output_type": "execute_result"
    }
   ],
   "source": [
    "marks.count(34)"
   ]
  },
  {
   "cell_type": "code",
   "execution_count": 46,
   "id": "dbd42cdc",
   "metadata": {},
   "outputs": [
    {
     "data": {
      "text/plain": [
       "6"
      ]
     },
     "execution_count": 46,
     "metadata": {},
     "output_type": "execute_result"
    }
   ],
   "source": [
    "#for checking the index\n",
    "marks.index(100)    #it will check only first occurance thats the limitation in python another occurance we will check in numpy"
   ]
  },
  {
   "cell_type": "code",
   "execution_count": 48,
   "id": "6fc8e2ca",
   "metadata": {},
   "outputs": [
    {
     "data": {
      "text/plain": [
       "1"
      ]
     },
     "execution_count": 48,
     "metadata": {},
     "output_type": "execute_result"
    }
   ],
   "source": [
    "marks.index(34)"
   ]
  },
  {
   "cell_type": "markdown",
   "id": "9f82d57b",
   "metadata": {},
   "source": [
    "#  extend method"
   ]
  },
  {
   "cell_type": "raw",
   "id": "9bd3b81d",
   "metadata": {},
   "source": [
    "if we want to add two or more employee in the list together \n",
    "to add anu and aashima in the list at same time we need extend method"
   ]
  },
  {
   "cell_type": "code",
   "execution_count": 49,
   "id": "6a9dbf48",
   "metadata": {},
   "outputs": [],
   "source": [
    "employee.append(['anu' , 'ashima'])"
   ]
  },
  {
   "cell_type": "code",
   "execution_count": 50,
   "id": "63500dd5",
   "metadata": {},
   "outputs": [
    {
     "data": {
      "text/plain": [
       "['radha', 'rajesh', 'sushma', 'sushma', 'krishna', ['anu', 'ashima']]"
      ]
     },
     "execution_count": 50,
     "metadata": {},
     "output_type": "execute_result"
    }
   ],
   "source": [
    "employee  #close bracket is coming in the list here"
   ]
  },
  {
   "cell_type": "code",
   "execution_count": 51,
   "id": "ea5a5cf5",
   "metadata": {},
   "outputs": [],
   "source": [
    "#method to add employee effectively\n",
    "employee.extend(['anu' , 'sushima'])"
   ]
  },
  {
   "cell_type": "code",
   "execution_count": 52,
   "id": "fcc6edd5",
   "metadata": {},
   "outputs": [
    {
     "data": {
      "text/plain": [
       "['radha',\n",
       " 'rajesh',\n",
       " 'sushma',\n",
       " 'sushma',\n",
       " 'krishna',\n",
       " ['anu', 'ashima'],\n",
       " 'anu',\n",
       " 'sushima']"
      ]
     },
     "execution_count": 52,
     "metadata": {},
     "output_type": "execute_result"
    }
   ],
   "source": [
    "employee"
   ]
  },
  {
   "cell_type": "markdown",
   "id": "8d5c7f68",
   "metadata": {},
   "source": [
    "# pop method:\n",
    "                       used to eliminate an item"
   ]
  },
  {
   "cell_type": "code",
   "execution_count": 53,
   "id": "6b8fcf68",
   "metadata": {},
   "outputs": [],
   "source": [
    "students = [ 'raj','sushma','shyama','rakhi','uday']"
   ]
  },
  {
   "cell_type": "code",
   "execution_count": 54,
   "id": "d29c3690",
   "metadata": {},
   "outputs": [],
   "source": [
    "#pop_last = listname.pop()"
   ]
  },
  {
   "cell_type": "code",
   "execution_count": 56,
   "id": "51cd7513",
   "metadata": {},
   "outputs": [
    {
     "data": {
      "text/plain": [
       "'uday'"
      ]
     },
     "execution_count": 56,
     "metadata": {},
     "output_type": "execute_result"
    }
   ],
   "source": [
    "pop_last = students.pop()    #this will eliminate last student\n",
    "pop_last    #this pop_last will show the last student name it's only work is to show student name here"
   ]
  },
  {
   "cell_type": "code",
   "execution_count": 58,
   "id": "36703792",
   "metadata": {},
   "outputs": [
    {
     "data": {
      "text/plain": [
       "['raj', 'sushma', 'shyama', 'rakhi']"
      ]
     },
     "execution_count": 58,
     "metadata": {},
     "output_type": "execute_result"
    }
   ],
   "source": [
    "#now \n",
    "students    #as we can see uday is removed from list"
   ]
  },
  {
   "cell_type": "code",
   "execution_count": 59,
   "id": "3b55a829",
   "metadata": {},
   "outputs": [],
   "source": [
    "#delete based on index\n",
    "pop_index = students.pop(1)    #to eliminate the students on index 1"
   ]
  },
  {
   "cell_type": "code",
   "execution_count": 60,
   "id": "2abdee0a",
   "metadata": {},
   "outputs": [
    {
     "data": {
      "text/plain": [
       "['raj', 'shyama', 'rakhi']"
      ]
     },
     "execution_count": 60,
     "metadata": {},
     "output_type": "execute_result"
    }
   ],
   "source": [
    "students     #sushma is now eliminated"
   ]
  },
  {
   "cell_type": "code",
   "execution_count": 61,
   "id": "77253f19",
   "metadata": {},
   "outputs": [],
   "source": [
    "students.extend(['anu', 'swati'])"
   ]
  },
  {
   "cell_type": "code",
   "execution_count": 62,
   "id": "37d37604",
   "metadata": {},
   "outputs": [
    {
     "data": {
      "text/plain": [
       "['raj', 'shyama', 'rakhi', 'anu', 'swati']"
      ]
     },
     "execution_count": 62,
     "metadata": {},
     "output_type": "execute_result"
    }
   ],
   "source": [
    "students"
   ]
  },
  {
   "cell_type": "code",
   "execution_count": 64,
   "id": "37255a19",
   "metadata": {},
   "outputs": [
    {
     "ename": "NameError",
     "evalue": "name 'pop' is not defined",
     "output_type": "error",
     "traceback": [
      "\u001b[1;31m---------------------------------------------------------------------------\u001b[0m",
      "\u001b[1;31mNameError\u001b[0m                                 Traceback (most recent call last)",
      "\u001b[1;32m~\\AppData\\Local\\Temp\\ipykernel_12772\\391183944.py\u001b[0m in \u001b[0;36m<module>\u001b[1;34m\u001b[0m\n\u001b[1;32m----> 1\u001b[1;33m \u001b[0mpop_name\u001b[0m \u001b[1;33m=\u001b[0m \u001b[0mpop\u001b[0m\u001b[1;33m.\u001b[0m\u001b[0mstudents\u001b[0m\u001b[1;33m(\u001b[0m\u001b[1;36m0\u001b[0m\u001b[1;33m)\u001b[0m\u001b[1;33m\u001b[0m\u001b[1;33m\u001b[0m\u001b[0m\n\u001b[0m",
      "\u001b[1;31mNameError\u001b[0m: name 'pop' is not defined"
     ]
    }
   ],
   "source": [
    " pop_name = pop.students(0)      #we must have to use pop_index and pop_last to eliminate "
   ]
  },
  {
   "cell_type": "markdown",
   "id": "11ec3272",
   "metadata": {},
   "source": [
    "# remove data:"
   ]
  },
  {
   "cell_type": "code",
   "execution_count": 65,
   "id": "2ec0d1ec",
   "metadata": {},
   "outputs": [],
   "source": [
    "roll_no = [11,23,44,67,55,43,]"
   ]
  },
  {
   "cell_type": "code",
   "execution_count": 66,
   "id": "491e9d48",
   "metadata": {},
   "outputs": [],
   "source": [
    "#list name .remove(roll_n0)\n",
    "roll_no.remove(44)"
   ]
  },
  {
   "cell_type": "code",
   "execution_count": 67,
   "id": "e929b1a4",
   "metadata": {},
   "outputs": [
    {
     "data": {
      "text/plain": [
       "[11, 23, 67, 55, 43]"
      ]
     },
     "execution_count": 67,
     "metadata": {},
     "output_type": "execute_result"
    }
   ],
   "source": [
    "roll_no  #44 has been removed now\n",
    "  #if there are duplicates item only first one will get removed"
   ]
  },
  {
   "cell_type": "code",
   "execution_count": 68,
   "id": "ad3ef569",
   "metadata": {},
   "outputs": [],
   "source": [
    "roll_no.extend( [11,55,43])"
   ]
  },
  {
   "cell_type": "code",
   "execution_count": 69,
   "id": "41e43d04",
   "metadata": {},
   "outputs": [
    {
     "data": {
      "text/plain": [
       "[11, 23, 67, 55, 43, 11, 55, 43]"
      ]
     },
     "execution_count": 69,
     "metadata": {},
     "output_type": "execute_result"
    }
   ],
   "source": [
    "roll_no"
   ]
  },
  {
   "cell_type": "code",
   "execution_count": 70,
   "id": "45a09e69",
   "metadata": {},
   "outputs": [],
   "source": [
    "roll_no.remove(43)"
   ]
  },
  {
   "cell_type": "code",
   "execution_count": 71,
   "id": "c81613cd",
   "metadata": {},
   "outputs": [
    {
     "data": {
      "text/plain": [
       "[11, 23, 67, 55, 11, 55, 43]"
      ]
     },
     "execution_count": 71,
     "metadata": {},
     "output_type": "execute_result"
    }
   ],
   "source": [
    "roll_no    #here first 43 got removed"
   ]
  },
  {
   "cell_type": "markdown",
   "id": "8c63c512",
   "metadata": {},
   "source": [
    "# reverse method"
   ]
  },
  {
   "cell_type": "code",
   "execution_count": 72,
   "id": "5421fd35",
   "metadata": {},
   "outputs": [],
   "source": [
    "list = [ 1,2,3,4,5,6,7,8,]"
   ]
  },
  {
   "cell_type": "code",
   "execution_count": 73,
   "id": "ff603cf6",
   "metadata": {},
   "outputs": [],
   "source": [
    "list.reverse()"
   ]
  },
  {
   "cell_type": "code",
   "execution_count": 74,
   "id": "01fd7ff1",
   "metadata": {},
   "outputs": [
    {
     "data": {
      "text/plain": [
       "[8, 7, 6, 5, 4, 3, 2, 1]"
      ]
     },
     "execution_count": 74,
     "metadata": {},
     "output_type": "execute_result"
    }
   ],
   "source": [
    "list"
   ]
  },
  {
   "cell_type": "markdown",
   "id": "c5873670",
   "metadata": {},
   "source": [
    "# sort"
   ]
  },
  {
   "cell_type": "code",
   "execution_count": 75,
   "id": "eaceefb5",
   "metadata": {},
   "outputs": [],
   "source": [
    "numbers =[ 23,33,55,7,45,23,676,23,76,87,]"
   ]
  },
  {
   "cell_type": "code",
   "execution_count": 76,
   "id": "1b9e71ae",
   "metadata": {},
   "outputs": [],
   "source": [
    "numbers.sort()   #it will sort the list in ascending order only"
   ]
  },
  {
   "cell_type": "code",
   "execution_count": 77,
   "id": "c0000e34",
   "metadata": {},
   "outputs": [
    {
     "data": {
      "text/plain": [
       "[7, 23, 23, 23, 33, 45, 55, 76, 87, 676]"
      ]
     },
     "execution_count": 77,
     "metadata": {},
     "output_type": "execute_result"
    }
   ],
   "source": [
    "numbers"
   ]
  },
  {
   "cell_type": "code",
   "execution_count": 78,
   "id": "11501bbc",
   "metadata": {},
   "outputs": [],
   "source": [
    "#how to sort list in descending order \n",
    "numbers.sort(reverse = True)"
   ]
  },
  {
   "cell_type": "code",
   "execution_count": 79,
   "id": "a0de9d70",
   "metadata": {},
   "outputs": [
    {
     "data": {
      "text/plain": [
       "[676, 87, 76, 55, 45, 33, 23, 23, 23, 7]"
      ]
     },
     "execution_count": 79,
     "metadata": {},
     "output_type": "execute_result"
    }
   ],
   "source": [
    "numbers"
   ]
  },
  {
   "cell_type": "markdown",
   "id": "4b3554ac",
   "metadata": {},
   "source": [
    "# tuples"
   ]
  },
  {
   "cell_type": "raw",
   "id": "72f791bd",
   "metadata": {},
   "source": [
    "tuple = tuple are not mutable(editable)\n",
    "list = list is mutable(editabe)\n",
    "tuples are in the round bracket()"
   ]
  },
  {
   "cell_type": "code",
   "execution_count": 80,
   "id": "96eb610e",
   "metadata": {},
   "outputs": [],
   "source": [
    "work_location = ('bengaluru' ,'noida' , 'bhiwani' , 'fatehbad' , 'sirsa')"
   ]
  },
  {
   "cell_type": "code",
   "execution_count": 82,
   "id": "8acdf308",
   "metadata": {},
   "outputs": [
    {
     "ename": "AttributeError",
     "evalue": "'tuple' object has no attribute 'append'",
     "output_type": "error",
     "traceback": [
      "\u001b[1;31m---------------------------------------------------------------------------\u001b[0m",
      "\u001b[1;31mAttributeError\u001b[0m                            Traceback (most recent call last)",
      "\u001b[1;32m~\\AppData\\Local\\Temp\\ipykernel_12772\\521817261.py\u001b[0m in \u001b[0;36m<module>\u001b[1;34m\u001b[0m\n\u001b[0;32m      1\u001b[0m \u001b[1;31m#let's try to edit tuple\u001b[0m\u001b[1;33m\u001b[0m\u001b[1;33m\u001b[0m\u001b[0m\n\u001b[1;32m----> 2\u001b[1;33m \u001b[0mwork_location\u001b[0m\u001b[1;33m.\u001b[0m\u001b[0mappend\u001b[0m\u001b[1;33m(\u001b[0m\u001b[1;34m'gujrat'\u001b[0m\u001b[1;33m)\u001b[0m\u001b[1;33m\u001b[0m\u001b[1;33m\u001b[0m\u001b[0m\n\u001b[0m",
      "\u001b[1;31mAttributeError\u001b[0m: 'tuple' object has no attribute 'append'"
     ]
    }
   ],
   "source": [
    "#let's try to edit tuple       #it is showing error because tuple can not be edit\n",
    "work_location.append('gujrat')"
   ]
  },
  {
   "cell_type": "code",
   "execution_count": 83,
   "id": "523c7538",
   "metadata": {},
   "outputs": [
    {
     "ename": "TypeError",
     "evalue": "'list' object is not callable",
     "output_type": "error",
     "traceback": [
      "\u001b[1;31m---------------------------------------------------------------------------\u001b[0m",
      "\u001b[1;31mTypeError\u001b[0m                                 Traceback (most recent call last)",
      "\u001b[1;32m~\\AppData\\Local\\Temp\\ipykernel_12772\\2007028890.py\u001b[0m in \u001b[0;36m<module>\u001b[1;34m\u001b[0m\n\u001b[0;32m      1\u001b[0m \u001b[1;31m# to edit tuple we must change it into list\u001b[0m\u001b[1;33m\u001b[0m\u001b[1;33m\u001b[0m\u001b[0m\n\u001b[0;32m      2\u001b[0m \u001b[1;31m# attribute are those words which are used after the dot (sort,append ,extend etc)\u001b[0m\u001b[1;33m\u001b[0m\u001b[1;33m\u001b[0m\u001b[0m\n\u001b[1;32m----> 3\u001b[1;33m \u001b[0mwork_location\u001b[0m \u001b[1;33m=\u001b[0m \u001b[0mlist\u001b[0m\u001b[1;33m(\u001b[0m\u001b[0mwork_location\u001b[0m\u001b[1;33m)\u001b[0m\u001b[1;33m\u001b[0m\u001b[1;33m\u001b[0m\u001b[0m\n\u001b[0m",
      "\u001b[1;31mTypeError\u001b[0m: 'list' object is not callable"
     ]
    }
   ],
   "source": [
    " # to edit tuple we must change it into list \n",
    "# attribute are those words which are used after the dot (sort,append ,extend etc)\n",
    "work_location = list(work_location)   #here list is not callable because we have used it earlier as a variable"
   ]
  },
  {
   "cell_type": "code",
   "execution_count": null,
   "id": "30a909ed",
   "metadata": {},
   "outputs": [],
   "source": []
  }
 ],
 "metadata": {
  "kernelspec": {
   "display_name": "Python 3 (ipykernel)",
   "language": "python",
   "name": "python3"
  },
  "language_info": {
   "codemirror_mode": {
    "name": "ipython",
    "version": 3
   },
   "file_extension": ".py",
   "mimetype": "text/x-python",
   "name": "python",
   "nbconvert_exporter": "python",
   "pygments_lexer": "ipython3",
   "version": "3.9.13"
  }
 },
 "nbformat": 4,
 "nbformat_minor": 5
}
